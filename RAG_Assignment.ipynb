{
  "nbformat": 4,
  "nbformat_minor": 0,
  "metadata": {
    "colab": {
      "provenance": [],
      "authorship_tag": "ABX9TyNpKDMbwjcBIhJWqvL+JV7e",
      "include_colab_link": true
    },
    "kernelspec": {
      "name": "python3",
      "display_name": "Python 3"
    },
    "language_info": {
      "name": "python"
    }
  },
  "cells": [
    {
      "cell_type": "markdown",
      "metadata": {
        "id": "view-in-github",
        "colab_type": "text"
      },
      "source": [
        "<a href=\"https://colab.research.google.com/github/xaltyPasta/RAG_Assignmrnt/blob/main/RAG_Assignment.ipynb\" target=\"_parent\"><img src=\"https://colab.research.google.com/assets/colab-badge.svg\" alt=\"Open In Colab\"/></a>"
      ]
    },
    {
      "cell_type": "code",
      "source": [
        "# Define a more structured legal database\n",
        "legal_database = {\n",
        "    \"IRC § 501(c)(3)\": {\"type\": \"code\", \"description\": \"Internal Revenue Code - Defines religious organizations\"},\n",
        "    \"Bob Jones University v. Simon\": {\"type\": \"case\", \"description\": \"Landmark case on religious freedom and tax exemption\", \"year\": 1983, \"court\": \"U.S.\"},\n",
        "    \"Reynolds v. United States\": {\"type\": \"case\", \"description\": \"Case on commercial activity and tax-exempt status\", \"year\": 1996, \"court\": \"9th Cir.\"},\n",
        "    \"Eastern Montana College of Education v. Helena\": {\"type\": \"case\", \"description\": \"Case on substantial vs. incidental commercial activity\", \"year\": 1991, \"court\": \"9th Cir.\"},\n",
        "    \"Glock v. Commissioner\": {\"type\": \"case\", \"description\": \"Case on religious organizations engaging in commercial activities\", \"year\": 1982, \"court\": \"T.C.\"},\n",
        "    \"Speakman v. Commissioner\": {\"type\": \"case\", \"description\": \"Case on ancillary commercial activities for religious purposes\", \"year\": 1987, \"court\": \"6th Cir.\"},\n",
        "    \"Murdoch v. Commissioner\": {\"type\": \"case\", \"description\": \"Case on defining 'religious purpose' for tax exemption\", \"year\": 1983, \"court\": \"9th Cir.\"},\n",
        "    \"Texas Heart Hospital of St. Luke's Episcopal Health Charities Inc. v. United States\": {\"type\": \"case\", \"description\": \"Case on religious hospitals and tax exemption\", \"year\": 1992, \"court\": \"5th Cir.\"},\n",
        "    \"United States v. The Sanctuary\": {\"type\": \"case\", \"description\": \"Case on religious organizations providing social services\", \"year\": 1995, \"court\": \"9th Cir.\"},\n",
        "    \"Hermitage Ministries Inc. v. Commissioner\": {\"type\": \"case\", \"description\": \"Case on religious organizations and fundraising activities\", \"year\": 1979, \"court\": \"T.C.\"}\n",
        "}"
      ],
      "metadata": {
        "id": "ffaIciluslrQ"
      },
      "execution_count": null,
      "outputs": []
    },
    {
      "cell_type": "code",
      "source": [
        "import spacy\n",
        "import re\n",
        "\n",
        "# Load the English language model for spaCy\n",
        "nlp = spacy.load(\"en_core_web_sm\")\n",
        "\n",
        "\n",
        "def find_citations(text):\n",
        "    # Empty list to store the citations\n",
        "    citations = []\n",
        "\n",
        "    # Regular expression pattern for case citations\n",
        "\n",
        "    citation_pattern = r\"\\b[A-Za-z]+(?:\\s+[A-Za-z]+)*\\s+v\\.?\\s+[A-Za-z]+(?:\\s+[A-Za-z]+)*\\b\"\n",
        "    #citation_pattern = r\"\\b[A-Z][a-z]+(?:\\s+[A-Z][a-z]+)*\\s+v\\.\\s+[A-Z][a-z]+(?:\\s+[A-Z][a-z]+)*\\b\"\n",
        "\n",
        "    # Use regular expressions to find legal citations in the text\n",
        "    matches = re.findall(citation_pattern, text)\n",
        "\n",
        "    # Process each match\n",
        "    for match in matches:\n",
        "      #if it's present in the leagal database\n",
        "      if match in legal_database:\n",
        "        # Add the citation to the list of citations\n",
        "        citations.append(match.strip())\n",
        "\n",
        "    # Return the list of citations\n",
        "    return citations\n",
        "\n",
        "# Sample text to search for citations\n",
        "text = \"This is a sample text with citations: Reynolds v. United States. Bob Jones University v. Simon. United States v. The Sanctuary. Hermitage Ministries, Inc. v. Commissioner. Texas Heart Hospital of St. Luke's Episcopal Health Charities, Inc. v. United States. Murdoch v. Commissioner. Speakman v. Commissioner. Glock v. Commissioner. Eastern Montana College of Education v. Helena.\"\n",
        "\n",
        "# Call the find_citations function to find citations in the text\n",
        "citations = find_citations(text)\n",
        "\n",
        "# Print the list of citations\n",
        "print(\"Citations found:\")\n",
        "for citation in citations:\n",
        "    print(citation)\n"
      ],
      "metadata": {
        "colab": {
          "base_uri": "https://localhost:8080/"
        },
        "id": "6SiSDNnOGwa6",
        "outputId": "e23aea1e-340b-4021-b459-b496c5db933f"
      },
      "execution_count": null,
      "outputs": [
        {
          "output_type": "stream",
          "name": "stdout",
          "text": [
            "Citations found:\n",
            "Reynolds v. United States\n",
            "Bob Jones University v. Simon\n",
            "United States v. The Sanctuary\n",
            "Murdoch v. Commissioner\n",
            "Speakman v. Commissioner\n",
            "Glock v. Commissioner\n",
            "Eastern Montana College of Education v. Helena\n"
          ]
        }
      ]
    },
    {
      "cell_type": "code",
      "source": [
        "def get_actual_predicted_citations(actual_citations, predicted_citations):\n",
        "    return actual_citations, predicted_citations\n",
        "\n",
        "# Sample text to search for citations\n",
        "text = \"This is a sample text with citations: Reynolds v. United States. Bob Jones University v. Simon. United States v. The Sanctuary. Hermitage Ministries, Inc. v. Commissioner. Texas Heart Hospital of St. Luke's Episcopal Health Charities, Inc. v. United States. Murdoch v. Commissioner. Speakman v. Commissioner. Glock v. Commissioner. Eastern Montana College of Education v. Helena.\"\n",
        "\n",
        "# Sample actual and predicted citations\n",
        "actual_citations = [\"Reynolds v. United States\", \"Bob Jones University v. Simon\", \"United States v. The Sanctuary\", \"Hermitage Ministries, Inc. v. Commissioner\", \"Texas Heart Hospital of St. Luke's Episcopal Health Charities, Inc. v. United States\", \"Murdoch v. Commissioner\", \"Speakman v. Commissioner\", \"Glock v. Commissioner\", \"Eastern Montana College of Education v. Helena\"]\n",
        "predicted_citations = find_citations(text)\n",
        "\n",
        "# Get actual and predicted citations as separate lists\n",
        "actual_citations_list, predicted_citations_list = get_actual_predicted_citations(actual_citations, predicted_citations)\n",
        "\n",
        "# Print actual and predicted citations separately\n",
        "print(\"Actual Citations:\")\n",
        "print(actual_citations_list)\n",
        "print(\"\\nPredicted Citations:\")\n",
        "print(predicted_citations_list)"
      ],
      "metadata": {
        "colab": {
          "base_uri": "https://localhost:8080/"
        },
        "id": "OuqlrDepoByI",
        "outputId": "6f365493-6956-4758-d941-3be5cc9289be"
      },
      "execution_count": null,
      "outputs": [
        {
          "output_type": "stream",
          "name": "stdout",
          "text": [
            "Actual Citations:\n",
            "['Reynolds v. United States', 'Bob Jones University v. Simon', 'United States v. The Sanctuary', 'Hermitage Ministries, Inc. v. Commissioner', \"Texas Heart Hospital of St. Luke's Episcopal Health Charities, Inc. v. United States\", 'Murdoch v. Commissioner', 'Speakman v. Commissioner', 'Glock v. Commissioner', 'Eastern Montana College of Education v. Helena']\n",
            "\n",
            "Predicted Citations:\n",
            "['Reynolds v. United States', 'Bob Jones University v. Simon', 'United States v. The Sanctuary', 'Murdoch v. Commissioner', 'Speakman v. Commissioner', 'Glock v. Commissioner', 'Eastern Montana College of Education v. Helena']\n"
          ]
        }
      ]
    },
    {
      "cell_type": "code",
      "source": [
        "from sklearn.metrics import precision_score\n",
        "\n",
        "def evaluate_precision(predicted_citations, actual_citations):\n",
        "    # Check if the lengths of predicted and actual citations match\n",
        "    if len(predicted_citations) != len(actual_citations):\n",
        "        raise ValueError(\"The number of predicted and actual citations lists do not match.\")\n",
        "\n",
        "    # Calculate the precision score\n",
        "    precision = precision_score(actual_citations, predicted_citations, average='micro')\n",
        "\n",
        "    return precision\n",
        "\n",
        "# Sample usage\n",
        "predicted_citations = [\"Reynolds v. United States\", \"Bob Jones University v. Simon\", \"United States v. The Sanctuary\",\n",
        "                       \"Murdoch v. Commissioner\", \"Speakman v. Commissioner\", \"Glock v. Commissioner\", \"Education v. Helena\"]\n",
        "\n",
        "actual_citations = [\"Reynolds v. United States\", \"Bob Jones University v. Simon\", \"United States v. The Sanctuary\",\n",
        "                    \"Murdoch v. Commissioner\", \"Speakman v. Commissioner\", \"Glock v. Commissioner\", \"Eastern Montana College of Education v. Helena\"]\n",
        "\n",
        "# Truncate the predicted_citations list to match the length of actual_citations\n",
        "predicted_citations = predicted_citations[:len(actual_citations)]\n",
        "\n",
        "precision = evaluate_precision(predicted_citations, actual_citations)\n",
        "print(\"Precision:\", precision)\n"
      ],
      "metadata": {
        "colab": {
          "base_uri": "https://localhost:8080/"
        },
        "id": "0Kprh-XxGwVB",
        "outputId": "67b78463-5871-4f2c-bb43-bcaaa7bc9d09"
      },
      "execution_count": null,
      "outputs": [
        {
          "output_type": "stream",
          "name": "stdout",
          "text": [
            "Precision: 0.8571428571428571\n"
          ]
        }
      ]
    },
    {
      "cell_type": "code",
      "source": [
        "from sklearn.metrics import recall_score\n",
        "\n",
        "def evaluate_recall(predicted_citations, actual_citations):\n",
        "    # Check if the lengths of predicted and actual citations match\n",
        "    if len(predicted_citations) != len(actual_citations):\n",
        "        raise ValueError(\"The number of predicted and actual citations lists do not match.\")\n",
        "\n",
        "    # Calculate the recall score\n",
        "    recall = recall_score(actual_citations, predicted_citations, average='micro')\n",
        "\n",
        "    return recall\n",
        "\n",
        "# Sample usage\n",
        "\n",
        "# Sample usage\n",
        "predicted_citations = [\"Reynolds v. United States\", \"Bob Jones University v. Simon\", \"United States v. The Sanctuary\",\n",
        "                       \"Murdoch v. Commissioner\", \"Speakman v. Commissioner\", \"Glock v. Commissioner\", \"Education v. Helena\"]\n",
        "\n",
        "actual_citations = [\"Reynolds v. United States\", \"Bob Jones University v. Simon\", \"United States v. The Sanctuary\",\n",
        "                    \"Murdoch v. Commissioner\", \"Speakman v. Commissioner\", \"Glock v. Commissioner\", \"Eastern Montana College of Education v. Helena\"]\n",
        "# Truncate the predicted_citations list to match the length of actual_citations\n",
        "predicted_citations = predicted_citations[:len(actual_citations)]\n",
        "\n",
        "recall = evaluate_recall(predicted_citations, actual_citations)\n",
        "print(\"Recall:\", recall)\n"
      ],
      "metadata": {
        "colab": {
          "base_uri": "https://localhost:8080/"
        },
        "id": "pjvebv9TGwLi",
        "outputId": "f758a6e0-02fc-4f91-ad61-6444f09c99f0"
      },
      "execution_count": null,
      "outputs": [
        {
          "output_type": "stream",
          "name": "stdout",
          "text": [
            "Recall: 0.8571428571428571\n"
          ]
        }
      ]
    },
    {
      "cell_type": "code",
      "source": [
        "from sklearn.metrics import f1_score\n",
        "\n",
        "def evaluate_f1_score(predicted_citations, actual_citations):\n",
        "    # Check if the lengths of predicted and actual citations match\n",
        "    if len(predicted_citations) != len(actual_citations):\n",
        "        raise ValueError(\"The number of predicted and actual citations lists do not match.\")\n",
        "\n",
        "    # Calculate the F1 score\n",
        "    f1 = f1_score(actual_citations, predicted_citations, average='micro')\n",
        "\n",
        "    return f1\n",
        "\n",
        "\n",
        "# Sample usage\n",
        "predicted_citations = [\"Reynolds v. United States\", \"Bob Jones University v. Simon\", \"United States v. The Sanctuary\",\n",
        "                       \"Murdoch v. Commissioner\", \"Speakman v. Commissioner\", \"Glock v. Commissioner\", \"Education v. Helena\"]\n",
        "\n",
        "actual_citations = [\"Reynolds v. United States\", \"Bob Jones University v. Simon\", \"United States v. The Sanctuary\",\n",
        "                    \"Murdoch v. Commissioner\", \"Speakman v. Commissioner\", \"Glock v. Commissioner\", \"Eastern Montana College of Education v. Helena\"]\n",
        "# Truncate the predicted_citations list to match the length of actual_citations\n",
        "predicted_citations = predicted_citations[:len(actual_citations)]\n",
        "\n",
        "f1_score = evaluate_f1_score(predicted_citations, actual_citations)\n",
        "print(\"F1 Score:\", f1_score)\n"
      ],
      "metadata": {
        "colab": {
          "base_uri": "https://localhost:8080/"
        },
        "id": "isJJ3wa4lku2",
        "outputId": "f593a5ea-3d68-42a8-c0f0-331323195579"
      },
      "execution_count": null,
      "outputs": [
        {
          "output_type": "stream",
          "name": "stdout",
          "text": [
            "F1 Score: 0.8571428571428571\n"
          ]
        }
      ]
    }
  ]
}